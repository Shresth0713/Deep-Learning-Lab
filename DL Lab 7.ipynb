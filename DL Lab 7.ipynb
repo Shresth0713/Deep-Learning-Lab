{
 "cells": [
  {
   "cell_type": "markdown",
   "id": "23946ade",
   "metadata": {},
   "source": [
    "## DL Lab 7\n",
    "## Shresht Mishra\n",
    "## 211020450"
   ]
  },
  {
   "cell_type": "code",
   "execution_count": 17,
   "id": "e1deae94",
   "metadata": {},
   "outputs": [],
   "source": [
    "import pandas as pd\n",
    "from sklearn.preprocessing import StandardScaler \n",
    "from sklearn.model_selection import train_test_split\n",
    "from sklearn.preprocessing import LabelEncoder\n",
    "import numpy as np\n",
    "import tensorflow as tf\n",
    "from tensorflow import keras\n",
    "from tensorflow.keras.models import Sequential\n",
    "from tensorflow.keras.layers import SimpleRNN, Dense\n",
    "import matplotlib.pyplot as plt\n",
    "import seaborn as sns"
   ]
  },
  {
   "cell_type": "code",
   "execution_count": 18,
   "id": "47340412",
   "metadata": {},
   "outputs": [],
   "source": [
    "data = pd.read_csv('D:/DL/Dataset/stock/stock_metadata.csv')"
   ]
  },
  {
   "cell_type": "code",
   "execution_count": 19,
   "id": "5d09b00c",
   "metadata": {},
   "outputs": [
    {
     "name": "stdout",
     "output_type": "stream",
     "text": [
      "Missing values:\n",
      " Company Name    0\n",
      "Industry        0\n",
      "Symbol          0\n",
      "Series          0\n",
      "ISIN Code       0\n",
      "dtype: int64\n"
     ]
    }
   ],
   "source": [
    "missing_values = data.isnull().sum() \n",
    "print(\"Missing values:\\n\", missing_values)"
   ]
  },
  {
   "cell_type": "code",
   "execution_count": 20,
   "id": "f29f193a",
   "metadata": {},
   "outputs": [],
   "source": [
    "data = data.drop_duplicates()"
   ]
  },
  {
   "cell_type": "code",
   "execution_count": 21,
   "id": "be7b7c3a",
   "metadata": {},
   "outputs": [],
   "source": [
    "X = data.drop('ISIN Code', axis=1)\n",
    "y = data['ISIN Code']"
   ]
  },
  {
   "cell_type": "code",
   "execution_count": 22,
   "id": "d2efe3dc",
   "metadata": {},
   "outputs": [],
   "source": [
    "X_train, X_test, y_train, y_test = train_test_split(X, y, test_size=0.2,random_state=42)"
   ]
  },
  {
   "cell_type": "code",
   "execution_count": 23,
   "id": "72ffd16e",
   "metadata": {},
   "outputs": [
    {
     "name": "stdout",
     "output_type": "stream",
     "text": [
      "  Category  Category_encoded\n",
      "0        A                 0\n",
      "1        B                 1\n",
      "2        A                 0\n",
      "3        C                 2\n",
      "4        B                 1\n",
      "5        C                 2\n"
     ]
    }
   ],
   "source": [
    "data = pd.DataFrame({'Category': ['A', 'B', 'A', 'C', 'B', 'C']})\n",
    "label_encoder = LabelEncoder()\n",
    "data['Category_encoded'] = label_encoder.fit_transform(data['Category'])\n",
    "print(data)"
   ]
  },
  {
   "cell_type": "code",
   "execution_count": 24,
   "id": "c6ff33f2",
   "metadata": {},
   "outputs": [
    {
     "name": "stdout",
     "output_type": "stream",
     "text": [
      "   Category_A  Category_B  Category_C\n",
      "0        True       False       False\n",
      "1       False        True       False\n",
      "2        True       False       False\n",
      "3       False       False        True\n",
      "4       False        True       False\n",
      "5       False       False        True\n"
     ]
    }
   ],
   "source": [
    "data = pd.DataFrame({'Category': ['A', 'B', 'A', 'C', 'B', 'C']}) \n",
    "data = pd.get_dummies(data, columns=['Category'], prefix=['Category'])\n",
    "print(data)"
   ]
  },
  {
   "cell_type": "code",
   "execution_count": 25,
   "id": "5103617a",
   "metadata": {},
   "outputs": [],
   "source": [
    "X_train = np.array(...) \n",
    "y_train = np.array(...)"
   ]
  },
  {
   "cell_type": "code",
   "execution_count": 26,
   "id": "acc4be5c",
   "metadata": {},
   "outputs": [],
   "source": [
    "sequence_length = 52 \n",
    "num_features = 4 \n",
    "model = Sequential()\n",
    "model.add(SimpleRNN(units=64, activation='tanh', input_shape=(sequence_length,num_features), return_sequences=True))\n",
    "model.add(Dense(1, activation='linear'))\n",
    "model.compile(optimizer='adam', loss='mean_squared_error')\n",
    "model = Sequential()"
   ]
  },
  {
   "cell_type": "code",
   "execution_count": 27,
   "id": "14b4e7af",
   "metadata": {},
   "outputs": [
    {
     "name": "stdout",
     "output_type": "stream",
     "text": [
      "Epoch 1/10\n",
      "4/4 [==============================] - 0s 4ms/step - loss: 0.2832\n",
      "Epoch 2/10\n",
      "4/4 [==============================] - 0s 3ms/step - loss: 0.1959\n",
      "Epoch 3/10\n",
      "4/4 [==============================] - 0s 3ms/step - loss: 0.1401\n",
      "Epoch 4/10\n",
      "4/4 [==============================] - 0s 3ms/step - loss: 0.1080\n",
      "Epoch 5/10\n",
      "4/4 [==============================] - 0s 4ms/step - loss: 0.0927\n",
      "Epoch 6/10\n",
      "4/4 [==============================] - 0s 4ms/step - loss: 0.0900\n",
      "Epoch 7/10\n",
      "4/4 [==============================] - 0s 3ms/step - loss: 0.0908\n",
      "Epoch 8/10\n",
      "4/4 [==============================] - 0s 4ms/step - loss: 0.0913\n",
      "Epoch 9/10\n",
      "4/4 [==============================] - 0s 3ms/step - loss: 0.0904\n",
      "Epoch 10/10\n",
      "4/4 [==============================] - 0s 3ms/step - loss: 0.0887\n"
     ]
    },
    {
     "data": {
      "text/plain": [
       "<keras.callbacks.History at 0x2590e8e3400>"
      ]
     },
     "execution_count": 27,
     "metadata": {},
     "output_type": "execute_result"
    }
   ],
   "source": [
    "X_train = np.random.rand(100, 5)\n",
    "y_train = np.random.rand(100)\n",
    "learning_rate = 0.001\n",
    "model = keras.Sequential([\n",
    "    keras.layers.Dense(64, activation='relu', input_shape=(X_train.shape[1],)),\n",
    "    keras.layers.Dense(32, activation='relu'),\n",
    "    keras.layers.Dense(1, activation='linear')\n",
    "])\n",
    "optimizer = keras.optimizers.Adam(learning_rate=learning_rate)\n",
    "model.compile(optimizer=optimizer, loss='mean_squared_error')\n",
    "model.fit(X_train, y_train, epochs=10)"
   ]
  },
  {
   "cell_type": "code",
   "execution_count": 28,
   "id": "35108dc8",
   "metadata": {},
   "outputs": [
    {
     "name": "stdout",
     "output_type": "stream",
     "text": [
      "Learning Rate: 0.0001, Validation Mean Squared Error: 0.0705\n"
     ]
    }
   ],
   "source": [
    "X_train, X_val, y_train, y_val = train_test_split(X_train, y_train, test_size=0.2, random_state=42)\n",
    "learning_rates = [0.1, 0.01, 0.001, 0.0001]\n",
    "results = {}\n",
    "for lr in learning_rates:\n",
    "    model = keras.Sequential([\n",
    "        keras.layers.Dense(64, activation='relu', input_shape=(X_train.shape[1],)),\n",
    "keras.layers.Dense(32, activation='relu'), keras.layers.Dense(1, activation='linear')\n",
    "])\n",
    "    optimizer = keras.optimizers.Adam(learning_rate=lr)\n",
    "    model.compile(optimizer=optimizer, loss='mean_squared_error')\n",
    "history = model.fit(X_train, y_train, epochs=50, validation_data=(X_val,y_val), verbose=0)\n",
    "mse = model.evaluate(X_val, y_val, verbose=0)\n",
    "results[lr] = mse\n",
    "for lr, mse in results.items():\n",
    "    print(f'Learning Rate: {lr}, Validation Mean Squared Error: {mse:.4f}')"
   ]
  },
  {
   "cell_type": "code",
   "execution_count": 29,
   "id": "25c5c6bd",
   "metadata": {},
   "outputs": [
    {
     "name": "stdout",
     "output_type": "stream",
     "text": [
      "Activation Function: linear, Validation Mean Squared Error:0.0631\n"
     ]
    }
   ],
   "source": [
    "X_train, X_val, y_train, y_val = train_test_split(X_train, y_train, test_size=0.2, random_state=42)\n",
    "activation_functions = ['relu', 'tanh', 'sigmoid', 'linear']\n",
    "results = {}\n",
    "for activation in activation_functions:\n",
    "        keras.layers.Dense(64, activation=activation, input_shape=(X_train.shape[1],)),\n",
    "        keras.layers.Dense(32, activation=activation),\n",
    "        keras.layers.Dense(1, activation='linear')\n",
    "        model.compile(optimizer='adam', loss='mean_squared_error')\n",
    "history = model.fit(X_train, y_train, epochs=50, validation_data=(X_val,y_val), verbose=0)\n",
    "mse = model.evaluate(X_val, y_val, verbose=0)\n",
    "results[activation] = mse\n",
    "for activation, mse in results.items():\n",
    "    print(f'Activation Function: {activation}, Validation Mean Squared Error:{mse:.4f}')"
   ]
  },
  {
   "cell_type": "code",
   "execution_count": 30,
   "id": "dca17523",
   "metadata": {},
   "outputs": [
    {
     "name": "stdout",
     "output_type": "stream",
     "text": [
      "WARNING:tensorflow:5 out of the last 5 calls to <function Model.make_predict_function.<locals>.predict_function at 0x000002590EFF1430> triggered tf.function retracing. Tracing is expensive and the excessive number of tracings could be due to (1) creating @tf.function repeatedly in a loop, (2) passing tensors with different shapes, (3) passing Python objects instead of tensors. For (1), please define your @tf.function outside of the loop. For (2), @tf.function has reduce_retracing=True option that can avoid unnecessary retracing. For (3), please refer to https://www.tensorflow.org/guide/function#controlling_retracing and https://www.tensorflow.org/api_docs/python/tf/function for  more details.\n",
      "1/1 [==============================] - 0s 32ms/step\n",
      "WARNING:tensorflow:6 out of the last 6 calls to <function Model.make_predict_function.<locals>.predict_function at 0x000002590E8DF820> triggered tf.function retracing. Tracing is expensive and the excessive number of tracings could be due to (1) creating @tf.function repeatedly in a loop, (2) passing tensors with different shapes, (3) passing Python objects instead of tensors. For (1), please define your @tf.function outside of the loop. For (2), @tf.function has reduce_retracing=True option that can avoid unnecessary retracing. For (3), please refer to https://www.tensorflow.org/guide/function#controlling_retracing and https://www.tensorflow.org/api_docs/python/tf/function for  more details.\n",
      "1/1 [==============================] - 0s 31ms/step\n",
      "1/1 [==============================] - 0s 31ms/step\n",
      "MSE: 0.0865\n",
      "MAE: 0.2529\n",
      "R2: -0.2431\n"
     ]
    }
   ],
   "source": [
    "from sklearn.metrics import mean_squared_error, mean_absolute_error, r2_score\n",
    "\n",
    "\n",
    "X_train, X_val, y_train, y_val = train_test_split(X_train, y_train, test_size=0.2, random_state=42)\n",
    "evaluation_criteria = {\n",
    "    'MSE': mean_squared_error,\n",
    "    'MAE': mean_absolute_error,\n",
    "    'R2': r2_score\n",
    "}\n",
    "results = {}\n",
    "for metric_name, metric_func in evaluation_criteria.items():\n",
    "    model = keras.Sequential([\n",
    "    keras.layers.Dense(64, activation='relu', input_shape=(X_train.shape[1],)),\n",
    "    keras.layers.Dense(32, activation='relu'),\n",
    "    keras.layers.Dense(1, activation='linear')\n",
    "    ])\n",
    "    model.compile(optimizer='adam', loss='mean_squared_error')\n",
    "    model.fit(X_train, y_train, epochs=50, validation_data=(X_val, y_val),verbose=0)\n",
    "    y_pred = model.predict(X_val)\n",
    "    score = metric_func(y_val, y_pred)\n",
    "    results[metric_name] = score\n",
    "for metric_name, score in results.items(): \n",
    "    print(f'{metric_name}: {score:.4f}')"
   ]
  },
  {
   "cell_type": "code",
   "execution_count": 31,
   "id": "f462049c",
   "metadata": {},
   "outputs": [
    {
     "name": "stdout",
     "output_type": "stream",
     "text": [
      "1/1 [==============================] - 0s 30ms/step\n"
     ]
    },
    {
     "data": {
      "image/png": "[encoded data removed]",
      "text/plain": [
       "<Figure size 1000x600 with 1 Axes>"
      ]
     },
     "metadata": {},
     "output_type": "display_data"
    },
    {
     "data": {
      "image/png": "[encoded data removed]",
      "text/plain": [
       "<Figure size 1000x600 with 1 Axes>"
      ]
     },
     "metadata": {},
     "output_type": "display_data"
    },
    {
     "name": "stdout",
     "output_type": "stream",
     "text": [
      "Mean Squared Error: 0.1386\n",
      "R-squared (R2) Score: -4.1999\n"
     ]
    }
   ],
   "source": [
    "X_train, X_val, y_train, y_val = train_test_split(X_train, y_train, test_size=0.2, random_state=42)\n",
    "model = keras.Sequential([\n",
    "    keras.layers.Dense(64, activation='relu', input_shape=(X_train.shape[1],)),\n",
    "    keras.layers.Dense(32, activation='relu'),\n",
    "    keras.layers.Dense(1, activation='linear')\n",
    "])\n",
    "model.compile(optimizer='adam', loss='mean_squared_error')\n",
    "history = model.fit(X_train, y_train, epochs=50, validation_data=(X_val,y_val), verbose=0)\n",
    "y_pred = model.predict(X_val)\n",
    "plt.figure(figsize=(10, 6))\n",
    "sns.scatterplot(x=y_val.reshape(-1), y=y_pred.reshape(-1))\n",
    "plt.xlabel(\"Actual Values\")\n",
    "plt.ylabel(\"Predicted Values\")\n",
    "plt.title(\"Actual vs. Predicted Values\")\n",
    "plt.show()\n",
    "plt.figure(figsize=(10, 6))\n",
    "plt.plot(history.history['loss'], label='Training Loss')\n",
    "plt.plot(history.history['val_loss'], label='Validation Loss')\n",
    "plt.xlabel('Epochs')\n",
    "plt.ylabel('Loss')\n",
    "plt.legend()\n",
    "plt.title('Loss Curve')\n",
    "plt.show()\n",
    "mse = mean_squared_error(y_val, y_pred) \n",
    "r2 = r2_score(y_val, y_pred) \n",
    "print(f'Mean Squared Error: {mse:.4f}') \n",
    "print(f'R-squared (R2) Score: {r2:.4f}')"
   ]
  }
 ],
 "metadata": {
  "kernelspec": {
   "display_name": "tf_gpu",
   "language": "python",
   "name": "myenv"
  },
  "language_info": {
   "codemirror_mode": {
    "name": "ipython",
    "version": 3
   },
   "file_extension": ".py",
   "mimetype": "text/x-python",
   "name": "python",
   "nbconvert_exporter": "python",
   "pygments_lexer": "ipython3",
   "version": "3.9.18"
  }
 },
 "nbformat": 4,
 "nbformat_minor": 5
}
