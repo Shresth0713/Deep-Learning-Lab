{
 "cells": [
  {
   "cell_type": "markdown",
   "id": "c2584538",
   "metadata": {},
   "source": [
    "# DL Lab 1"
   ]
  },
  {
   "cell_type": "markdown",
   "id": "915a538f",
   "metadata": {},
   "source": [
    "# Shresht Mishra"
   ]
  },
  {
   "cell_type": "markdown",
   "id": "42fa3c0a",
   "metadata": {},
   "source": [
    "# 211020450"
   ]
  },
  {
   "cell_type": "code",
   "execution_count": 1,
   "id": "063b38b5",
   "metadata": {},
   "outputs": [],
   "source": [
    "import tensorflow as tf"
   ]
  },
  {
   "cell_type": "markdown",
   "id": "62cdbd81",
   "metadata": {},
   "source": [
    "## 2."
   ]
  },
  {
   "cell_type": "code",
   "execution_count": 3,
   "id": "74fc4923",
   "metadata": {},
   "outputs": [],
   "source": [
    "t1 = tf.constant([1, 2, 3])\n",
    "t2 = tf.constant([[1, 2, 3], [4, 5, 6], [7, 8, 9]])\n",
    "t3 = tf.constant([[[2,2],[3,3]],[[4,4],[5,5]]])"
   ]
  },
  {
   "cell_type": "code",
   "execution_count": 4,
   "id": "d431c330",
   "metadata": {},
   "outputs": [
    {
     "name": "stdout",
     "output_type": "stream",
     "text": [
      "tf.Tensor([1 2 3], shape=(3,), dtype=int32)\n"
     ]
    }
   ],
   "source": [
    "print(t1)"
   ]
  },
  {
   "cell_type": "code",
   "execution_count": 5,
   "id": "03acb5b6",
   "metadata": {},
   "outputs": [
    {
     "name": "stdout",
     "output_type": "stream",
     "text": [
      "tf.Tensor(\n",
      "[[1 2 3]\n",
      " [4 5 6]\n",
      " [7 8 9]], shape=(3, 3), dtype=int32)\n"
     ]
    }
   ],
   "source": [
    "print(t2)"
   ]
  },
  {
   "cell_type": "code",
   "execution_count": 6,
   "id": "efb47795",
   "metadata": {},
   "outputs": [
    {
     "name": "stdout",
     "output_type": "stream",
     "text": [
      "tf.Tensor(\n",
      "[[[2 2]\n",
      "  [3 3]]\n",
      "\n",
      " [[4 4]\n",
      "  [5 5]]], shape=(2, 2, 2), dtype=int32)\n"
     ]
    }
   ],
   "source": [
    "print(t3)"
   ]
  },
  {
   "cell_type": "code",
   "execution_count": 7,
   "id": "57d83e43",
   "metadata": {},
   "outputs": [],
   "source": [
    "zero_1d = tf.zeros([3])\n",
    "zero_2d = tf.zeros([3,3],tf.int32)\n",
    "zero_3d = tf.zeros([3,3,3])"
   ]
  },
  {
   "cell_type": "code",
   "execution_count": 8,
   "id": "426409e4",
   "metadata": {},
   "outputs": [
    {
     "name": "stdout",
     "output_type": "stream",
     "text": [
      "tf.Tensor([0. 0. 0.], shape=(3,), dtype=float32)\n"
     ]
    }
   ],
   "source": [
    "print(zero_1d)"
   ]
  },
  {
   "cell_type": "code",
   "execution_count": 9,
   "id": "7cbb3568",
   "metadata": {},
   "outputs": [
    {
     "name": "stdout",
     "output_type": "stream",
     "text": [
      "tf.Tensor(\n",
      "[[0 0 0]\n",
      " [0 0 0]\n",
      " [0 0 0]], shape=(3, 3), dtype=int32)\n"
     ]
    }
   ],
   "source": [
    "print(zero_2d)"
   ]
  },
  {
   "cell_type": "code",
   "execution_count": 10,
   "id": "e5c4bdb6",
   "metadata": {},
   "outputs": [
    {
     "name": "stdout",
     "output_type": "stream",
     "text": [
      "tf.Tensor(\n",
      "[[[0. 0. 0.]\n",
      "  [0. 0. 0.]\n",
      "  [0. 0. 0.]]\n",
      "\n",
      " [[0. 0. 0.]\n",
      "  [0. 0. 0.]\n",
      "  [0. 0. 0.]]\n",
      "\n",
      " [[0. 0. 0.]\n",
      "  [0. 0. 0.]\n",
      "  [0. 0. 0.]]], shape=(3, 3, 3), dtype=float32)\n"
     ]
    }
   ],
   "source": [
    "print(zero_3d)"
   ]
  },
  {
   "cell_type": "code",
   "execution_count": 11,
   "id": "3459a408",
   "metadata": {},
   "outputs": [],
   "source": [
    "ones_1d = tf.ones([2])\n",
    "ones_2d = tf.ones([2,2])\n",
    "ones_3d = tf.ones([2,2,2])"
   ]
  },
  {
   "cell_type": "code",
   "execution_count": 12,
   "id": "33d8a174",
   "metadata": {},
   "outputs": [
    {
     "name": "stdout",
     "output_type": "stream",
     "text": [
      "tf.Tensor([1. 1.], shape=(2,), dtype=float32)\n"
     ]
    }
   ],
   "source": [
    "print(ones_1d)"
   ]
  },
  {
   "cell_type": "code",
   "execution_count": 13,
   "id": "0ad291c8",
   "metadata": {},
   "outputs": [
    {
     "name": "stdout",
     "output_type": "stream",
     "text": [
      "tf.Tensor(\n",
      "[[1. 1.]\n",
      " [1. 1.]], shape=(2, 2), dtype=float32)\n"
     ]
    }
   ],
   "source": [
    "print(ones_2d)"
   ]
  },
  {
   "cell_type": "code",
   "execution_count": 14,
   "id": "40b34512",
   "metadata": {},
   "outputs": [
    {
     "name": "stdout",
     "output_type": "stream",
     "text": [
      "tf.Tensor(\n",
      "[[[1. 1.]\n",
      "  [1. 1.]]\n",
      "\n",
      " [[1. 1.]\n",
      "  [1. 1.]]], shape=(2, 2, 2), dtype=float32)\n"
     ]
    }
   ],
   "source": [
    "print(ones_3d)"
   ]
  },
  {
   "cell_type": "code",
   "execution_count": 15,
   "id": "eb80db7e",
   "metadata": {},
   "outputs": [],
   "source": [
    "fill_1d = tf.fill([3], 5)\n",
    "fill_2d = tf.fill([3,3], 5)\n",
    "fill_3d = tf.fill([3,3,3], 5)"
   ]
  },
  {
   "cell_type": "code",
   "execution_count": 16,
   "id": "945ae6a6",
   "metadata": {},
   "outputs": [
    {
     "name": "stdout",
     "output_type": "stream",
     "text": [
      "tf.Tensor([5 5 5], shape=(3,), dtype=int32)\n"
     ]
    }
   ],
   "source": [
    "print(fill_1d)"
   ]
  },
  {
   "cell_type": "code",
   "execution_count": 17,
   "id": "19aaf0ab",
   "metadata": {},
   "outputs": [
    {
     "name": "stdout",
     "output_type": "stream",
     "text": [
      "tf.Tensor(\n",
      "[[5 5 5]\n",
      " [5 5 5]\n",
      " [5 5 5]], shape=(3, 3), dtype=int32)\n"
     ]
    }
   ],
   "source": [
    "print(fill_2d)"
   ]
  },
  {
   "cell_type": "code",
   "execution_count": 18,
   "id": "2f07023e",
   "metadata": {},
   "outputs": [
    {
     "name": "stdout",
     "output_type": "stream",
     "text": [
      "tf.Tensor(\n",
      "[[[5 5 5]\n",
      "  [5 5 5]\n",
      "  [5 5 5]]\n",
      "\n",
      " [[5 5 5]\n",
      "  [5 5 5]\n",
      "  [5 5 5]]\n",
      "\n",
      " [[5 5 5]\n",
      "  [5 5 5]\n",
      "  [5 5 5]]], shape=(3, 3, 3), dtype=int32)\n"
     ]
    }
   ],
   "source": [
    "print(fill_3d)"
   ]
  },
  {
   "cell_type": "markdown",
   "id": "29ccd30a",
   "metadata": {},
   "source": [
    "## 3."
   ]
  },
  {
   "cell_type": "code",
   "execution_count": 19,
   "id": "4b082dfd",
   "metadata": {},
   "outputs": [
    {
     "data": {
      "text/plain": [
       "<tf.Tensor: shape=(), dtype=int32, numpy=1>"
      ]
     },
     "execution_count": 19,
     "metadata": {},
     "output_type": "execute_result"
    }
   ],
   "source": [
    "tf.rank(t1)"
   ]
  },
  {
   "cell_type": "code",
   "execution_count": 20,
   "id": "fdad8503",
   "metadata": {},
   "outputs": [
    {
     "data": {
      "text/plain": [
       "<tf.Tensor: shape=(), dtype=int32, numpy=3>"
      ]
     },
     "execution_count": 20,
     "metadata": {},
     "output_type": "execute_result"
    }
   ],
   "source": [
    "tf.rank(zero_3d)"
   ]
  },
  {
   "cell_type": "code",
   "execution_count": 21,
   "id": "b7b1954f",
   "metadata": {},
   "outputs": [
    {
     "data": {
      "text/plain": [
       "<tf.Tensor: shape=(), dtype=int32, numpy=2>"
      ]
     },
     "execution_count": 21,
     "metadata": {},
     "output_type": "execute_result"
    }
   ],
   "source": [
    "tf.rank(fill_2d)"
   ]
  },
  {
   "cell_type": "markdown",
   "id": "624ed17c",
   "metadata": {},
   "source": [
    "## 4."
   ]
  },
  {
   "cell_type": "code",
   "execution_count": 22,
   "id": "dfa7aa39",
   "metadata": {},
   "outputs": [
    {
     "data": {
      "text/plain": [
       "<tf.Tensor: shape=(3,), dtype=int32, numpy=array([2, 2, 2])>"
      ]
     },
     "execution_count": 22,
     "metadata": {},
     "output_type": "execute_result"
    }
   ],
   "source": [
    "tf.shape(t3)"
   ]
  },
  {
   "cell_type": "code",
   "execution_count": 23,
   "id": "57f2168d",
   "metadata": {},
   "outputs": [
    {
     "data": {
      "text/plain": [
       "<tf.Tensor: shape=(2,), dtype=int32, numpy=array([3, 3])>"
      ]
     },
     "execution_count": 23,
     "metadata": {},
     "output_type": "execute_result"
    }
   ],
   "source": [
    "tf.shape(zero_2d)"
   ]
  },
  {
   "cell_type": "markdown",
   "id": "2b980cea",
   "metadata": {},
   "source": [
    "## 5."
   ]
  },
  {
   "cell_type": "code",
   "execution_count": 24,
   "id": "fcb8207a",
   "metadata": {},
   "outputs": [],
   "source": [
    "t4 = [1, 2, 3, 4, 5, 6, 7, 8, 9]\n",
    "t5 = [[[1, 1], [2, 2]],\n",
    "     [[3, 3], [4, 4]]]"
   ]
  },
  {
   "cell_type": "code",
   "execution_count": 25,
   "id": "b0c6a5e8",
   "metadata": {},
   "outputs": [
    {
     "data": {
      "text/plain": [
       "<tf.Tensor: shape=(3, 3), dtype=int32, numpy=\n",
       "array([[1, 2, 3],\n",
       "       [4, 5, 6],\n",
       "       [7, 8, 9]])>"
      ]
     },
     "execution_count": 25,
     "metadata": {},
     "output_type": "execute_result"
    }
   ],
   "source": [
    "tf.reshape(t4, [3, 3])"
   ]
  },
  {
   "cell_type": "code",
   "execution_count": 26,
   "id": "14d2f15b",
   "metadata": {},
   "outputs": [
    {
     "data": {
      "text/plain": [
       "<tf.Tensor: shape=(2, 4), dtype=int32, numpy=\n",
       "array([[1, 1, 2, 2],\n",
       "       [3, 3, 4, 4]])>"
      ]
     },
     "execution_count": 26,
     "metadata": {},
     "output_type": "execute_result"
    }
   ],
   "source": [
    "tf.reshape(t5, [2, 4])"
   ]
  },
  {
   "cell_type": "code",
   "execution_count": 27,
   "id": "fecae5e2",
   "metadata": {},
   "outputs": [],
   "source": [
    "t7 = tf.constant([[[1, 1, 1], [2, 2, 2]],\n",
    "                 [[3, 3, 3], [4, 4, 4]],\n",
    "                 [[5, 5, 5], [6, 6, 6]]])"
   ]
  },
  {
   "cell_type": "markdown",
   "id": "156f2bf3",
   "metadata": {},
   "source": [
    "## 6."
   ]
  },
  {
   "cell_type": "code",
   "execution_count": 28,
   "id": "136e0999",
   "metadata": {},
   "outputs": [
    {
     "name": "stdout",
     "output_type": "stream",
     "text": [
      "tf.Tensor([[[3 3 3]]], shape=(1, 1, 3), dtype=int32)\n"
     ]
    }
   ],
   "source": [
    "print(tf.slice(t7, [1, 0, 0], [1, 1, 3]) )"
   ]
  },
  {
   "cell_type": "code",
   "execution_count": 29,
   "id": "cc10cee4",
   "metadata": {},
   "outputs": [
    {
     "name": "stdout",
     "output_type": "stream",
     "text": [
      "tf.Tensor(\n",
      "[[[3 3 3]\n",
      "  [4 4 4]]], shape=(1, 2, 3), dtype=int32)\n"
     ]
    }
   ],
   "source": [
    "print(tf.slice(t7, [1, 0, 0], [1, 2, 3]) )"
   ]
  },
  {
   "cell_type": "markdown",
   "id": "3a8cab7c",
   "metadata": {},
   "source": [
    "## 7."
   ]
  },
  {
   "cell_type": "code",
   "execution_count": 30,
   "id": "29b94da8",
   "metadata": {},
   "outputs": [],
   "source": [
    "matmul_result = tf.matmul(t2, zero_2d)"
   ]
  },
  {
   "cell_type": "code",
   "execution_count": 31,
   "id": "a70966f4",
   "metadata": {},
   "outputs": [
    {
     "name": "stdout",
     "output_type": "stream",
     "text": [
      "tf.Tensor(\n",
      "[[0 0 0]\n",
      " [0 0 0]\n",
      " [0 0 0]], shape=(3, 3), dtype=int32)\n"
     ]
    }
   ],
   "source": [
    "print(matmul_result)"
   ]
  },
  {
   "cell_type": "code",
   "execution_count": 32,
   "id": "4ba7d7c9",
   "metadata": {},
   "outputs": [],
   "source": [
    "add_result = tf.add(t2, fill_2d)"
   ]
  },
  {
   "cell_type": "code",
   "execution_count": 33,
   "id": "3aa952d0",
   "metadata": {},
   "outputs": [
    {
     "name": "stdout",
     "output_type": "stream",
     "text": [
      "tf.Tensor(\n",
      "[[ 6  7  8]\n",
      " [ 9 10 11]\n",
      " [12 13 14]], shape=(3, 3), dtype=int32)\n"
     ]
    }
   ],
   "source": [
    "print(add_result)"
   ]
  },
  {
   "cell_type": "code",
   "execution_count": 34,
   "id": "a37c6c59",
   "metadata": {},
   "outputs": [],
   "source": [
    "subtract_result = tf.subtract(t2, fill_2d)"
   ]
  },
  {
   "cell_type": "code",
   "execution_count": 35,
   "id": "ada1bb35",
   "metadata": {},
   "outputs": [
    {
     "name": "stdout",
     "output_type": "stream",
     "text": [
      "tf.Tensor(\n",
      "[[-4 -3 -2]\n",
      " [-1  0  1]\n",
      " [ 2  3  4]], shape=(3, 3), dtype=int32)\n"
     ]
    }
   ],
   "source": [
    "print(subtract_result)"
   ]
  },
  {
   "cell_type": "code",
   "execution_count": 36,
   "id": "decc3a5d",
   "metadata": {},
   "outputs": [],
   "source": [
    "transpose_result = tf.transpose(t3)"
   ]
  },
  {
   "cell_type": "code",
   "execution_count": 37,
   "id": "de1ad309",
   "metadata": {},
   "outputs": [
    {
     "name": "stdout",
     "output_type": "stream",
     "text": [
      "tf.Tensor(\n",
      "[[[2 4]\n",
      "  [3 5]]\n",
      "\n",
      " [[2 4]\n",
      "  [3 5]]], shape=(2, 2, 2), dtype=int32)\n"
     ]
    }
   ],
   "source": [
    "print(transpose_result)"
   ]
  },
  {
   "cell_type": "markdown",
   "id": "ec33a303",
   "metadata": {},
   "source": [
    "## 8."
   ]
  },
  {
   "cell_type": "code",
   "execution_count": 38,
   "id": "71ea9d0d",
   "metadata": {},
   "outputs": [],
   "source": [
    "constant_result = t1*2"
   ]
  },
  {
   "cell_type": "code",
   "execution_count": 39,
   "id": "cf932f99",
   "metadata": {},
   "outputs": [
    {
     "name": "stdout",
     "output_type": "stream",
     "text": [
      "tf.Tensor([2 4 6], shape=(3,), dtype=int32)\n"
     ]
    }
   ],
   "source": [
    "print(constant_result)"
   ]
  },
  {
   "cell_type": "code",
   "execution_count": 40,
   "id": "9d7077cd",
   "metadata": {},
   "outputs": [],
   "source": [
    "initial_value = [1.0, 2.0]\n",
    "variable_tensor = tf.Variable(initial_value)"
   ]
  },
  {
   "cell_type": "code",
   "execution_count": 41,
   "id": "c9693353",
   "metadata": {},
   "outputs": [
    {
     "name": "stdout",
     "output_type": "stream",
     "text": [
      "[2. 4.]\n"
     ]
    }
   ],
   "source": [
    "variable_tensor.assign(variable_tensor * 2)\n",
    "print(variable_tensor.numpy())"
   ]
  },
  {
   "cell_type": "code",
   "execution_count": 42,
   "id": "8da9f26e",
   "metadata": {},
   "outputs": [
    {
     "name": "stdout",
     "output_type": "stream",
     "text": [
      "[3 6 9]\n"
     ]
    }
   ],
   "source": [
    "data = tf.data.Dataset.from_tensor_slices([[1, 2, 3], [4, 5, 6]])\n",
    "iterator = iter(data)\n",
    "batch = next(iterator)\n",
    "output = batch * 3\n",
    "print(output.numpy())"
   ]
  },
  {
   "cell_type": "markdown",
   "id": "015bb6a6",
   "metadata": {},
   "source": [
    "## 9."
   ]
  },
  {
   "cell_type": "code",
   "execution_count": 43,
   "id": "a4c63ff9",
   "metadata": {},
   "outputs": [
    {
     "name": "stdout",
     "output_type": "stream",
     "text": [
      "WARNING:tensorflow:From C:\\Users\\shres\\anaconda3\\lib\\site-packages\\tensorflow\\python\\compat\\v2_compat.py:107: disable_resource_variables (from tensorflow.python.ops.variable_scope) is deprecated and will be removed in a future version.\n",
      "Instructions for updating:\n",
      "non-resource variables are not supported in the long term\n"
     ]
    }
   ],
   "source": [
    "tf.compat.v1.disable_v2_behavior()"
   ]
  },
  {
   "cell_type": "code",
   "execution_count": 44,
   "id": "47a4ae86",
   "metadata": {},
   "outputs": [],
   "source": [
    "x = tf.constant([2, 3, 4], dtype=tf.float32, name=\"x\")\n",
    "y = tf.constant([5, 6, 7], dtype=tf.float32, name=\"y\")\n",
    "result = tf.multiply(x, y, name=\"result\")"
   ]
  },
  {
   "cell_type": "code",
   "execution_count": 45,
   "id": "aa60ba3a",
   "metadata": {},
   "outputs": [
    {
     "name": "stdout",
     "output_type": "stream",
     "text": [
      "[10. 18. 28.]\n"
     ]
    }
   ],
   "source": [
    "with tf.compat.v1.Session() as sess:\n",
    "    output = sess.run(result)\n",
    "    print(output)"
   ]
  },
  {
   "cell_type": "markdown",
   "id": "667a37e3",
   "metadata": {},
   "source": [
    "## 10."
   ]
  },
  {
   "cell_type": "code",
   "execution_count": 2,
   "id": "4701f320",
   "metadata": {},
   "outputs": [
    {
     "name": "stdout",
     "output_type": "stream",
     "text": [
      "Batch Features: [3. 5.]\n",
      "Batch Labels: [4. 6.]\n",
      "Batch Features: [4. 2.]\n",
      "Batch Labels: [5. 3.]\n",
      "Batch Features: [1.]\n",
      "Batch Labels: [2.]\n"
     ]
    }
   ],
   "source": [
    "data = [\n",
    "    (1.0, 2.0),\n",
    "    (2.0, 3.0),\n",
    "    (3.0, 4.0),\n",
    "    (4.0, 5.0),\n",
    "    (5.0, 6.0)\n",
    "]\n",
    "features = [x for x, y in data]\n",
    "labels = [y for x, y in data]\n",
    "dataset = tf.data.Dataset.from_tensor_slices((features, labels))\n",
    "batch_size = 2\n",
    "dataset = dataset.shuffle(buffer_size=len(data)).batch(batch_size)\n",
    "for batch in dataset:\n",
    "    batch_features, batch_labels = batch\n",
    "    print(\"Batch Features:\", batch_features.numpy())\n",
    "    print(\"Batch Labels:\", batch_labels.numpy())"
   ]
  },
  {
   "cell_type": "markdown",
   "id": "a398e2d6",
   "metadata": {},
   "source": [
    "# 11."
   ]
  },
  {
   "cell_type": "code",
   "execution_count": 3,
   "id": "64fb4bab",
   "metadata": {},
   "outputs": [
    {
     "name": "stdout",
     "output_type": "stream",
     "text": [
      "Batch Features (NumPy): [2. 1.]\n",
      "Batch Labels (NumPy): [3. 2.]\n",
      "Batch Features (NumPy): [3. 4.]\n",
      "Batch Labels (NumPy): [4. 5.]\n",
      "Batch Features (NumPy): [5.]\n",
      "Batch Labels (NumPy): [6.]\n"
     ]
    }
   ],
   "source": [
    "numpy_iterator = dataset.as_numpy_iterator()\n",
    "for batch_features, batch_labels in numpy_iterator:\n",
    "    print(\"Batch Features (NumPy):\", batch_features)\n",
    "    print(\"Batch Labels (NumPy):\", batch_labels)"
   ]
  },
  {
   "cell_type": "code",
   "execution_count": 4,
   "id": "ee984685",
   "metadata": {},
   "outputs": [],
   "source": [
    "def transform_fn(feature, label):\n",
    "    return feature * 2, label * 3"
   ]
  },
  {
   "cell_type": "code",
   "execution_count": 5,
   "id": "6af282ec",
   "metadata": {},
   "outputs": [
    {
     "name": "stdout",
     "output_type": "stream",
     "text": [
      "Transformed Batch Features: [8. 4.]\n",
      "Transformed Batch Labels: [15.  9.]\n",
      "Transformed Batch Features: [ 2. 10.]\n",
      "Transformed Batch Labels: [ 6. 18.]\n",
      "Transformed Batch Features: [6.]\n",
      "Transformed Batch Labels: [12.]\n"
     ]
    }
   ],
   "source": [
    "transformed_dataset = dataset.map(transform_fn)\n",
    "for batch_features, batch_labels in transformed_dataset:\n",
    "    print(\"Transformed Batch Features:\", batch_features.numpy())\n",
    "    print(\"Transformed Batch Labels:\", batch_labels.numpy())"
   ]
  },
  {
   "cell_type": "code",
   "execution_count": 6,
   "id": "f3ab97c2",
   "metadata": {},
   "outputs": [
    {
     "name": "stdout",
     "output_type": "stream",
     "text": [
      "Number of Samples: 3\n"
     ]
    }
   ],
   "source": [
    "num_samples = dataset.cardinality().numpy()\n",
    "print(\"Number of Samples:\", num_samples)"
   ]
  }
 ],
 "metadata": {
  "kernelspec": {
   "display_name": "Python 3 (ipykernel)",
   "language": "python",
   "name": "python3"
  },
  "language_info": {
   "codemirror_mode": {
    "name": "ipython",
    "version": 3
   },
   "file_extension": ".py",
   "mimetype": "text/x-python",
   "name": "python",
   "nbconvert_exporter": "python",
   "pygments_lexer": "ipython3",
   "version": "3.9.13"
  }
 },
 "nbformat": 4,
 "nbformat_minor": 5
}
